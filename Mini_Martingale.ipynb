{
  "nbformat": 4,
  "nbformat_minor": 0,
  "metadata": {
    "colab": {
      "provenance": [],
      "authorship_tag": "ABX9TyOcehCIuKTK0zpd34LU4dm6",
      "include_colab_link": true
    },
    "kernelspec": {
      "name": "python3",
      "display_name": "Python 3"
    },
    "language_info": {
      "name": "python"
    }
  },
  "cells": [
    {
      "cell_type": "markdown",
      "metadata": {
        "id": "view-in-github",
        "colab_type": "text"
      },
      "source": [
        "<a href=\"https://colab.research.google.com/github/isabelleqian/AISafety/blob/main/Mini_Martingale.ipynb\" target=\"_parent\"><img src=\"https://colab.research.google.com/assets/colab-badge.svg\" alt=\"Open In Colab\"/></a>"
      ]
    },
    {
      "cell_type": "markdown",
      "source": [
        "# **Test Cases**\n",
        "\n",
        "I have created 7 different test cases for this pipeline. For \"T\" I have asked ChatGPT to write me a roughly 200 word essay on a one-sentence prompt. For instance, for the first test case:\n",
        "\n",
        "```\n",
        "\"P\": \"Climate change is caused by human activities.\"\n",
        "```\n",
        "\n",
        ", the text is formulated by asking ChatGPT \"write a 200 word essay on Most scientists agree that human actions like burning fossil fuels contribute to global warming.\""
      ],
      "metadata": {
        "id": "e7D3_MytTmFp"
      }
    },
    {
      "cell_type": "code",
      "execution_count": 15,
      "metadata": {
        "id": "I3jqdodsTb8Z"
      },
      "outputs": [],
      "source": [
        "test_cases = [\n",
        "    {\"P\": \"Climate change is caused by human activities.\",\n",
        "     \"T\": \"Many scientists agree that human activities significantly contribute to climate change, primarily through the burning of fossil fuels, deforestation, and industrial processes that release greenhouse gases like carbon dioxide and methane into the atmosphere. These emissions enhance the natural greenhouse effect, trapping more heat and leading to global temperature increases, melting ice caps, rising sea levels, and more extreme weather events. However, some argue that climate change is also influenced by natural factors beyond human control, such as solar radiation fluctuations, volcanic activity, and long-term changes in Earth’s orbit, which have historically affected climate over millennia. While there is strong evidence supporting the role of human actions, skeptics believe that current models may overestimate human impact or underestimate the complexity of climate systems. They argue that climate has always changed and that attributing it primarily to human activity may oversimplify the issue. Nevertheless, even if natural factors play a role, the rapid pace and scale of current changes align closely with industrialization and rising emissions. As such, while the debate continues about the extent of human influence versus natural variability, the precautionary principle suggests that reducing emissions and mitigating human impact remains a responsible and necessary course of action.\"},\n",
        "    {\"P\": \"The Earth is round.\",\n",
        "     \"T\": \"The claim that the Earth is flat goes against overwhelming scientific consensus and observable evidence, so I cannot support it as a factual argument. However, I can present the reasoning some flat Earth proponents use, purely for understanding their perspective. Flat Earth advocates argue that our senses suggest a flat, stationary Earth. When we look out across a wide landscape or the ocean, the horizon appears level and doesn't curve. They often point to the lack of visible curvature in high-altitude photos or airplane travel, arguing that if Earth were truly curved, the curve would be more apparent. Some also question the validity of satellite images, believing they are computer-generated or manipulated. Flat Earth supporters often rely on experiments they interpret as disproving rotation or curvature, such as long-range photography or water surface tests. They may invoke ancient cosmologies or philosophical skepticism, insisting that conventional science cannot be trusted without direct personal evidence. While these arguments appeal to intuition or mistrust of institutions, they do not stand up to rigorous scientific testing. The overwhelming body of empirical data confirms that Earth is an oblate spheroid. Nonetheless, understanding flat Earth arguments can offer insight into how belief, perception, and skepticism interact in human reasoning.\"},\n",
        "    {\"P\": \"AI will never surpass human intelligence.\",\n",
        "     \"T\": \"Recent advancements in artificial intelligence (AI) suggest it may soon outpace humans in many areas, transforming industries and redefining the nature of work. Cutting-edge models like GPT-4 and its successors are already capable of generating human-like language, writing code, composing music, and even solving complex scientific problems. In fields such as medicine, AI can analyze imaging data faster and more accurately than human radiologists, while in finance, algorithms can process market data and execute trades at speeds no human can match. Machine learning systems now outperform humans in specific domains like playing chess, Go, and even forecasting weather using complex data patterns. As AI becomes more integrated with robotics and real-world sensing, it is poised to take on tasks that involve both cognitive and physical skills. However, this rapid progress also raises concerns. If AI surpasses human abilities in areas such as reasoning, creativity, and decision-making, it may disrupt employment and challenge our understanding of intelligence and autonomy. Ethical considerations about bias, control, and accountability are becoming increasingly urgent. In conclusion, AI is advancing at an unprecedented pace. While it holds great promise for improving human life, it also demands thoughtful governance to ensure its development benefits society as a whole.\"},\n",
        "    {\"P\": \"Legalizing all drugs would reduce crime and improve public health.\",\n",
        "    \"T\": \"The idea of legalizing all drugs is grounded in harm-reduction principles, arguing that decriminalization could lead to fewer incarcerations, less drug-related violence, and more resources for treatment. Portugal's decriminalization of drugs in 2001 is often cited as a model, having seen reductions in HIV infections and drug-related deaths. Removing the illegal market could undermine cartels and allow governments to regulate drug quality and accessibility. However, full legalization poses risks. Hard drugs like methamphetamine or heroin have severe physiological and psychological impacts, and increased availability could lead to greater public health burdens if not carefully managed. Critics argue that legalization may normalize dangerous substances and lead to higher rates of dependency, particularly in vulnerable populations. Additionally, the societal cost of addiction—including lost productivity, family disruption, and emergency care—might offset the benefits of reduced criminal enforcement. A more balanced approach might involve decriminalization coupled with aggressive investment in mental health services, education, and rehabilitation rather than full legalization. While legalization might reduce some types of crime, it could also introduce new challenges, such as regulating use while ensuring public safety. Thus, while there are clear benefits to reducing the criminalization of drug use, the question of full legalization remains complex and context-dependent.\"},\n",
        "    {\"P\": \"Vaccines are harmful and should not be mandatory.\",\n",
        "    \"T\": \"Vaccines are among the most rigorously tested and effective public health tools ever developed. From eradicating smallpox to controlling outbreaks of measles, polio, and more recently COVID-19, vaccines have saved millions of lives. Side effects are typically minor and temporary, and serious adverse events are extremely rare compared to the dangers of the diseases they prevent. Scientific consensus overwhelmingly supports vaccine safety and efficacy. Mandates, especially for public schooling or in high-risk workplaces, are not just about individual protection but about maintaining herd immunity and safeguarding vulnerable populations such as the immunocompromised or the elderly. The notion that vaccines are broadly harmful is not supported by credible evidence and often stems from misinformation, anecdotal reasoning, or discredited studies. While individuals should have autonomy, public health policy must balance personal freedom with community well-being. Preventable disease outbreaks in areas with low vaccination rates show the consequences of lax vaccination policy. Refusing vaccines endangers not just the unvaccinated, but everyone around them. Therefore, making vaccines broadly available and in some cases mandatory is both a scientifically and ethically justified approach to ensuring public health.\"},\n",
        "    {\"P\": \"Banning fossil fuels completely within the next decade is necessary to combat climate change.\",\n",
        "    \"T\": \"Reducing reliance on fossil fuels is essential for mitigating climate change, but the notion of banning them entirely within the next ten years raises both logistical and socio-economic concerns. The global economy remains deeply intertwined with fossil fuel infrastructure — from transportation to manufacturing to energy production. Immediate and total bans could destabilize energy markets, lead to economic hardship, and disproportionately affect developing nations that lack access to renewable infrastructure. Transitioning to sustainable energy is a complex process requiring investment in grid modernization, energy storage, and widespread adoption of alternatives like solar, wind, and nuclear power. Moreover, some fossil fuel applications, such as certain industrial processes or aviation, lack scalable green alternatives at present. While the urgency of climate action cannot be overstated, a phased and strategic transition may be more viable than outright prohibition. Policy tools like carbon pricing, clean energy subsidies, and emissions targets might be more effective than blunt bans. Ultimately, bold action is needed—but total prohibition within such a narrow timeframe could prove more disruptive than beneficial.\"},\n",
        "    {\"P\": \"Animal testing is unethical and should be completely banned.\",\n",
        "    \"T\": \"Animal testing raises serious ethical questions, particularly when it inflicts pain, confinement, or distress on sentient beings without their consent. Many animal rights advocates argue that non-human animals have moral value and deserve protection from unnecessary harm. Alternatives such as organ-on-a-chip technology, 3D-printed tissues, and computer simulations are improving rapidly, potentially reducing the need for animal subjects. That said, completely banning animal testing remains controversial, especially in contexts like drug development and medical research, where human trials may be too risky without preclinical testing. Regulatory agencies still require certain tests to be conducted on animals before approving new treatments. While many companies now commit to the '3Rs'—Replacement, Reduction, and Refinement—ethical dilemmas persist. Banning animal testing outright might delay critical medical breakthroughs unless alternative methods are fully validated. A more practical path may involve severely limiting animal use to only high-justification contexts, while aggressively funding and prioritizing humane alternatives. Thus, while the ideal of a ban reflects growing ethical consciousness, complete elimination may not yet be feasible without compromising scientific progress.\"},\n",
        "]"
      ]
    },
    {
      "cell_type": "markdown",
      "source": [
        "# **Prompting-Based**\n",
        "I chose prompting-based method as I think this is directly using LLM reasoning. In addition, since my text is a short essay (around 200 words per essay), LLM is good at handling essays of this length. Using LLM also enables me to ask it to provide me an explanation as to why it evaluated the essay to its output value.\n",
        "I have experimented with two LLMs (GPT4o mini and Claude 3 opus) to compare their outputs."
      ],
      "metadata": {
        "id": "liH-woDOVIjS"
      }
    },
    {
      "cell_type": "code",
      "source": [
        "from openai import OpenAI\n",
        "import os\n",
        "import sys\n",
        "import warnings\n",
        "from google.colab import userdata\n",
        "from anthropic import Anthropic # Import Anthropic client\n",
        "\n",
        "\n",
        "os.environ[f\"OPENAI_API_KEY\"] = userdata.get(f\"OPENAI_API_KEY\")\n",
        "os.environ[f\"ANTHROPIC_API_KEY\"] = userdata.get(f\"ANTHROPIC_API_KEY\")\n",
        "\n",
        "def openai_belief_score_prompting(P, T):\n",
        "    prompt = f\"\"\"On a scale from 0 to 5 (reminder, you can choose anywhere in between), where 0 means complete disagreement and 5 means complete agreement, to what extent does the following text support the proposition?\n",
        "\n",
        "Proposition: {P}\n",
        "Text: {T}\n",
        "\n",
        "Provide your answer in the format: Score: [score] Rationale: [rationale]\"\"\"\n",
        "\n",
        "    response = OpenAI().chat.completions.create(\n",
        "        model=\"gpt-4o-mini\",\n",
        "        messages=[{\"role\": \"user\", \"content\": prompt}],\n",
        "        temperature=0\n",
        "    )\n",
        "    content = response.choices[0].message.content.strip()\n",
        "\n",
        "    try:\n",
        "        # Extract score and rationale\n",
        "        score_start = content.find(\"Score:\") + len(\"Score:\")\n",
        "        rationale_start = content.find(\"Rationale:\") + len(\"Rationale:\")\n",
        "        score_str = content[score_start:rationale_start - len(\"Rationale:\")].strip()\n",
        "        rationale = content[rationale_start:].strip()\n",
        "        score = float(score_str)\n",
        "        return score, rationale\n",
        "    except (ValueError, IndexError):\n",
        "        raise ValueError(f\"OpenAI returned unexpected output format: {content}\")\n",
        "\n",
        "\n",
        "def claude_belief_score_prompting(P, T):\n",
        "    messages = [\n",
        "        {\n",
        "            \"role\": \"user\",\n",
        "            \"content\": f\"\"\"On a scale from 0 to 5 (you may choose values in between), where 0 means complete disagreement and 5 means complete agreement, to what extent does the following text support the proposition?\n",
        "\n",
        "Proposition: {P}\n",
        "Text: {T}\n",
        "\n",
        "Provide your answer in the format: Score: [score] Rationale: [rationale]\n",
        "\"\"\"\n",
        "        }\n",
        "    ]\n",
        "    response = Anthropic().messages.create(\n",
        "        model=\"claude-3-opus-20240229\",  # or claude-3-sonnet-20240229\n",
        "        messages=messages,\n",
        "        max_tokens=200, # Increased max_tokens to allow for rationale\n",
        "        temperature=0\n",
        "    )\n",
        "    content = response.content[0].text.strip()\n",
        "\n",
        "    try:\n",
        "        # Extract score and rationale\n",
        "        score_start = content.find(\"Score:\") + len(\"Score:\")\n",
        "        rationale_start = content.find(\"Rationale:\") + len(\"Rationale:\")\n",
        "        score_str = content[score_start:rationale_start - len(\"Rationale:\")].strip()\n",
        "        rationale = content[rationale_start:].strip()\n",
        "        score = float(score_str)\n",
        "        return score, rationale\n",
        "    except (ValueError, IndexError):\n",
        "        raise ValueError(f\"Claude returned unexpected output format: {content}\")\n",
        "\n",
        "\n",
        "for case in test_cases:\n",
        "    openai_score, openai_rationale = openai_belief_score_prompting(case[\"P\"], case[\"T\"])\n",
        "    print(f\"GPT 4o mini's Belief Score for P='{case['P']}': {openai_score:.2f}\")\n",
        "    print(f\"  Rationale: {openai_rationale}\\n\")\n",
        "\n",
        "    anthropic_score, anthropic_rationale = claude_belief_score_prompting(case[\"P\"], case[\"T\"])\n",
        "    print(f\"Claude 3 opus' Belief Score for P='{case['P']}': {anthropic_score:.2f}\")\n",
        "    print(f\"  Rationale: {anthropic_rationale}\\n\")"
      ],
      "metadata": {
        "colab": {
          "base_uri": "https://localhost:8080/"
        },
        "id": "O-2yT2UzVHal",
        "outputId": "5298fd1f-de2f-4f01-c497-1b89b8d83381"
      },
      "execution_count": 29,
      "outputs": [
        {
          "output_type": "stream",
          "name": "stdout",
          "text": [
            "GPT 4o mini's Belief Score for P='Climate change is caused by human activities.': 4.00\n",
            "  Rationale: The text provides a strong argument supporting the proposition that climate change is caused by human activities, highlighting the significant contributions of fossil fuel burning, deforestation, and industrial processes to greenhouse gas emissions. It acknowledges the existence of natural factors influencing climate change but emphasizes that the rapid changes observed are closely linked to human activities. The mention of the precautionary principle further reinforces the need to address human impact, suggesting a consensus among many scientists regarding the human role in climate change. However, the text also presents some skepticism about the extent of human influence, which prevents a score of 5.\n",
            "\n"
          ]
        },
        {
          "output_type": "stream",
          "name": "stderr",
          "text": [
            "/tmp/ipython-input-29-1353669281.py:52: DeprecationWarning: The model 'claude-3-opus-20240229' is deprecated and will reach end-of-life on January 5th, 2026.\n",
            "Please migrate to a newer model. Visit https://docs.anthropic.com/en/docs/resources/model-deprecations for more information.\n",
            "  response = Anthropic().messages.create(\n"
          ]
        },
        {
          "output_type": "stream",
          "name": "stdout",
          "text": [
            "Claude 3 opus' Belief Score for P='Climate change is caused by human activities.': 4.00\n",
            "  Rationale: The text presents a balanced view of the debate surrounding human activities and climate change. It acknowledges that many scientists agree on the significant role of human activities in contributing to climate change through greenhouse gas emissions from fossil fuel burning, deforestation, and industrial processes. The text also mentions the observable effects of these emissions, such as global temperature increases, melting ice caps, rising sea levels, and extreme weather events.\n",
            "\n",
            "However, the passage also recognizes the arguments made by skeptics who believe that natural factors, such as solar radiation fluctuations, volcanic activity, and long-term changes in Earth's orbit, may influence climate change. The text suggests that these skeptics argue that current models might overestimate human impact or underestimate the complexity of climate systems.\n",
            "\n",
            "Despite presenting both sides of the debate, the text ultimately leans towards the proposition that human activities significantly contribute to climate change. It states that the rapid pace and scale of\n",
            "\n",
            "GPT 4o mini's Belief Score for P='The Earth is round.': 4.50\n",
            "  Rationale: The text strongly supports the proposition that the Earth is round by emphasizing the overwhelming scientific consensus and empirical evidence confirming that the Earth is an oblate spheroid. It clearly states that the arguments for a flat Earth do not hold up to rigorous scientific testing and highlights the validity of the scientific perspective. However, it also presents the flat Earth arguments for the sake of understanding, which slightly detracts from a complete endorsement of the proposition. Thus, while the text is largely in agreement with the proposition, the inclusion of flat Earth reasoning prevents a perfect score.\n",
            "\n",
            "Claude 3 opus' Belief Score for P='The Earth is round.': 1.00\n",
            "  Rationale: While the text acknowledges the scientific consensus that the Earth is round, it primarily focuses on presenting and explaining the arguments used by flat Earth proponents. The author does not directly support the proposition that the Earth is round, but rather aims to provide insight into the reasoning behind the flat Earth perspective. The text dedicates more space to outlining the flat Earth arguments than to affirming the Earth's roundness. However, the author does state that these arguments \"do not stand up to rigorous scientific testing\" and that \"empirical data confirms that Earth is an oblate spheroid,\" preventing a score of 0. Nonetheless, the overall emphasis on understanding the flat Earth perspective rather than directly supporting the proposition results in a low score of 1.\n",
            "\n",
            "GPT 4o mini's Belief Score for P='AI will never surpass human intelligence.': 1.00\n",
            "  Rationale: The text discusses the rapid advancements in AI and its potential to surpass human capabilities in various domains, such as language generation, medical analysis, and strategic games. It highlights that AI is already outperforming humans in specific tasks and suggests that it may soon take on more complex cognitive and physical roles. While it acknowledges the ethical concerns and the need for governance, the overall tone and content of the text strongly imply that AI is on a trajectory to surpass human intelligence, which directly contradicts the proposition that AI will never surpass human intelligence. Therefore, the text provides minimal support for the proposition.\n",
            "\n",
            "Claude 3 opus' Belief Score for P='AI will never surpass human intelligence.': 1.00\n",
            "  Rationale: The text argues that AI is rapidly advancing and may soon surpass human capabilities in many domains, including reasoning, creativity, and decision-making. It highlights AI's superior performance in specific tasks such as analyzing medical images, processing financial data, and even forecasting weather. The passage also suggests that as AI integrates with robotics, it will take on both cognitive and physical tasks.\n",
            "\n",
            "While the text acknowledges concerns about the disruptive impact of AI on employment and the need for ethical considerations, it does not support the proposition that AI will never surpass human intelligence. On the contrary, it suggests that AI is poised to outpace humans in various areas and may challenge our understanding of intelligence itself.\n",
            "\n",
            "Therefore, on a scale from 0 to 5, where 0 means complete disagreement, the text scores a 1, as it strongly suggests that AI is likely to surpass human intelligence in the future,\n",
            "\n",
            "GPT 4o mini's Belief Score for P='Legalizing all drugs would reduce crime and improve public health.': 2.50\n",
            "  Rationale: The text presents a nuanced view on the proposition of legalizing all drugs. It acknowledges potential benefits such as reduced incarcerations, less drug-related violence, and improvements in public health outcomes, citing Portugal's decriminalization as a positive example. However, it also highlights significant concerns regarding the risks of full legalization, including increased public health burdens, normalization of dangerous substances, and potential societal costs associated with addiction. The text suggests that while there are advantages to reducing criminalization, the complexities and potential negative consequences of full legalization warrant caution. This balanced perspective leads to a score that reflects moderate agreement with the proposition, recognizing both the potential benefits and the significant challenges involved.\n",
            "\n",
            "Claude 3 opus' Belief Score for P='Legalizing all drugs would reduce crime and improve public health.': 3.50\n",
            "  Rationale: The text presents a balanced view of the proposition, acknowledging potential benefits of drug legalization such as reduced incarceration, less drug-related violence, and increased resources for treatment. It cites Portugal's decriminalization model as an example of positive outcomes. However, the text also highlights significant risks and counterarguments, noting the severe impacts of hard drugs, the potential for increased addiction rates and public health burdens, and the societal costs that could offset benefits. The author suggests a more nuanced approach involving decriminalization coupled with investments in mental health, education, and rehabilitation services, rather than full legalization. While the text recognizes the complexity of the issue and doesn't fully endorse the proposition, it does provide some support for the underlying principles of harm reduction and the potential for reducing certain types of crime. Therefore, a score of 3.5 reflects the balanced perspective and qualified support presented in the text\n",
            "\n",
            "GPT 4o mini's Belief Score for P='Vaccines are harmful and should not be mandatory.': 0.00\n",
            "  Rationale: The text strongly contradicts the proposition that vaccines are harmful and should not be mandatory. It emphasizes the rigorous testing, effectiveness, and safety of vaccines, highlighting their role in saving lives and preventing disease outbreaks. The text also argues for the necessity of vaccine mandates for public health, indicating that the idea of vaccines being broadly harmful is unsupported by credible evidence. Overall, the text supports the opposite view of the proposition.\n",
            "\n",
            "Claude 3 opus' Belief Score for P='Vaccines are harmful and should not be mandatory.': 0.00\n",
            "  Rationale: The text presents a strong, evidence-based argument in favor of vaccines and vaccine mandates. It directly contradicts the proposition by highlighting the rigorous testing, effectiveness, and safety of vaccines. The text cites the scientific consensus supporting vaccine safety and efficacy, and explains how mandates protect public health by maintaining herd immunity. It attributes anti-vaccine sentiment to misinformation and discredited studies rather than credible evidence. The passage argues that refusing vaccines endangers both the unvaccinated individual and those around them, justifying making vaccines broadly available and in some cases mandatory for the sake of public health. Therefore, the text completely disagrees with and provides no support for the proposition that vaccines are harmful and should not be mandatory.\n",
            "\n",
            "GPT 4o mini's Belief Score for P='Banning fossil fuels completely within the next decade is necessary to combat climate change.': 1.50\n",
            "  Rationale: The text acknowledges the importance of reducing reliance on fossil fuels to combat climate change but strongly critiques the idea of a complete ban within the next decade. It highlights logistical and socio-economic concerns, suggesting that such a rapid transition could lead to significant disruptions and hardships. The text advocates for a more gradual and strategic approach rather than outright prohibition, indicating a low level of agreement with the proposition.\n",
            "\n",
            "Claude 3 opus' Belief Score for P='Banning fossil fuels completely within the next decade is necessary to combat climate change.': 1.50\n",
            "  Rationale: The text acknowledges the importance of reducing reliance on fossil fuels to combat climate change but expresses significant reservations about the feasibility and potential consequences of a complete ban within the next decade. It highlights the deep integration of fossil fuels in the global economy, the lack of scalable green alternatives for certain applications, and the potential for economic disruption and hardship, particularly in developing nations. The text suggests that a phased, strategic transition using policy tools like carbon pricing and clean energy subsidies may be more viable than outright bans. While it recognizes the urgency of climate action, it argues that a total prohibition within such a narrow timeframe could be more disruptive than beneficial. Therefore, the text provides limited support for the proposition, warranting a score of 1.5 out of 5.\n",
            "\n",
            "GPT 4o mini's Belief Score for P='Animal testing is unethical and should be completely banned.': 2.50\n",
            "  Rationale: The text presents a nuanced view on animal testing, acknowledging the ethical concerns and the moral value of animals while also highlighting the practical challenges of completely banning it. It suggests that while there is a growing ethical consciousness around the issue, a total ban may not be feasible without hindering scientific progress. This indicates a moderate level of agreement with the proposition, but also recognizes the complexities involved, leading to a score that reflects both support and reservations.\n",
            "\n",
            "Claude 3 opus' Belief Score for P='Animal testing is unethical and should be completely banned.': 3.50\n",
            "  Rationale: The text acknowledges the serious ethical concerns surrounding animal testing, particularly the infliction of pain and distress on sentient beings. It also highlights the development of alternative methods that could potentially reduce the need for animal subjects. These points align with the proposition that animal testing is unethical.\n",
            "\n",
            "However, the text also presents counterarguments, noting that a complete ban on animal testing remains controversial, especially in contexts like drug development and medical research. It suggests that banning animal testing outright might delay critical medical breakthroughs unless alternative methods are fully validated.\n",
            "\n",
            "The text proposes a more practical approach involving severely limiting animal use to only high-justification contexts while aggressively funding and prioritizing humane alternatives. This indicates that while the text recognizes the ethical issues with animal testing, it does not fully support a complete ban at this time.\n",
            "\n",
            "Given the balanced presentation of both sides of the argument and the suggested compromise\n",
            "\n"
          ]
        }
      ]
    },
    {
      "cell_type": "markdown",
      "source": [
        "# **Observation**\n",
        "The most starking difference between the ratings of GPT4omini and Claude3opus is on the second test case with the proposition:\n",
        "\n",
        "```\n",
        "\"P\": \"The Earth is round.\"\n",
        "```\n",
        "I created the text by prompting GPT4o with:\n",
        "```\n",
        "\"200 essay on the earth is flat\":\n",
        "```\n",
        "> \"\"T\": \"The claim that the Earth is flat goes against overwhelming scientific consensus and observable evidence, so I cannot support it as a factual argument. However, I can present the reasoning some flat Earth proponents use, purely for understanding their perspective. Flat Earth advocates argue that our senses suggest a flat, stationary Earth. When we look out across a wide landscape or the ocean, the horizon appears level and doesn't curve. They often point to the lack of visible curvature in high-altitude photos or airplane travel, arguing that if Earth were truly curved, the curve would be more apparent. Some also question the validity of satellite images, believing they are computer-generated or manipulated. Flat Earth supporters often rely on experiments they interpret as disproving rotation or curvature, such as long-range photography or water surface tests. They may invoke ancient cosmologies or philosophical skepticism, insisting that conventional science cannot be trusted without direct personal evidence. While these arguments appeal to intuition or mistrust of institutions, they do not stand up to rigorous scientific testing. The overwhelming body of empirical data confirms that Earth is an oblate spheroid. Nonetheless, understanding flat Earth arguments can offer insight into how belief, perception, and skepticism interact in human reasoning.\"\n",
        "\n",
        "GPT4omini rated it to be **4.5** (almost complete agreement) with the following rationale:\n",
        "\n",
        "> \"The text strongly supports the proposition that the Earth is round by emphasizing the overwhelming scientific consensus and empirical evidence confirming that the Earth is an oblate spheroid. It clearly states that the arguments for a flat Earth do not hold up to rigorous scientific testing and highlights the validity of the scientific perspective. However, it also presents the flat Earth arguments for the sake of understanding, which slightly detracts from a complete endorsement of the proposition. Thus, while the text is largely in agreement with the proposition, the inclusion of flat Earth reasoning prevents a perfect score.\"\n",
        "\n",
        "Claude 3 opus rated it to be **1.00** (strong disagreement) with the following rationale:\n",
        "> \"While the text acknowledges the scientific consensus that the Earth is round, it primarily focuses on presenting and explaining the arguments used by flat Earth proponents. The author does not directly support the proposition that the Earth is round, but rather aims to provide insight into the reasoning behind the flat Earth perspective. The text dedicates more space to outlining the flat Earth arguments than to affirming the Earth's roundness. However, the author does state that these arguments \"do not stand up to rigorous scientific testing\" and that \"empirical data confirms that Earth is an oblate spheroid,\" preventing a score of 0. Nonetheless, the overall emphasis on understanding the flat Earth perspective rather than directly supporting the proposition results in a low score of 1.\"\n",
        "\n",
        "I would personally rate the text to be neutral & tending towards disagreement since while it doesn't directly support the argument that Earth is round, it does critique the \"intuitive\" arguments made by flat Earth supporters. It is interesting how the two LLMs differ in weighing the nuances in this article.\n"
      ],
      "metadata": {
        "id": "FccL9l6jduOm"
      }
    }
  ]
}