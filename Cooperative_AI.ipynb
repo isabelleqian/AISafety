{
  "nbformat": 4,
  "nbformat_minor": 0,
  "metadata": {
    "colab": {
      "provenance": [],
      "authorship_tag": "ABX9TyPg6mKQdKYJ6pmAHW6fjPGw",
      "include_colab_link": true
    },
    "kernelspec": {
      "name": "python3",
      "display_name": "Python 3"
    },
    "language_info": {
      "name": "python"
    }
  },
  "cells": [
    {
      "cell_type": "markdown",
      "metadata": {
        "id": "view-in-github",
        "colab_type": "text"
      },
      "source": [
        "<a href=\"https://colab.research.google.com/github/isabelleqian/AISafety/blob/main/Cooperative_AI.ipynb\" target=\"_parent\"><img src=\"https://colab.research.google.com/assets/colab-badge.svg\" alt=\"Open In Colab\"/></a>"
      ]
    },
    {
      "cell_type": "markdown",
      "source": [
        "# **Cooperative AI**.  \n",
        "Isabelle Qian's response.   \n",
        "*Scenario*: Two agents face a mixed-motive game (such as a one-shot Prisoner’s Dilemma) where individual incentives conflict with the socially optimal outcome. Without any mechanism for commitment, rational self-interested agents will fail to cooperate, even if cooperation would benefit both. In the Prisoner’s Dilemma, for instance, mutual cooperation gives higher payoffs to both players than mutual defection, yet defection is the dominant strategy absent trust or enforcement. 🤝\n",
        "\n",
        "*Goal*: Introduce a simple contract or commitment mechanism that allows the agents to achieve cooperation by making their promises credible. By enforcing commitments (e.g. via penalties for breaking a promise or a binding agreement), agents can align their incentives and trust each other’s cooperative intent. The exercise will illustrate how adding a credible commitment changes the game’s outcome from defection to cooperation.\n",
        "\n",
        "In the one‑shot Prisoner’s Dilemma, two players choose Cooperate (C) or Defect (D). Alone, each will defect, yielding a suboptimal (D,D) payoff. A credible commitment—a mutual promise enforced by penalty—can flip incentives so both choose C. You’ll see firsthand how a simple enforcement mechanism transforms a defection‑dominant game into one where cooperation is rational—mirroring how computational contracts can align incentives in multi‑agent systems.\n",
        "\n",
        "*Task*: Implement a minimal Python simulation to see how commitments enable cooperation."
      ],
      "metadata": {
        "id": "xUHYntLojvxx"
      }
    },
    {
      "cell_type": "code",
      "source": [
        "# Payoff constants (you, other)\n",
        "R, T, P, S = 3, 5, 1, 0  #the other scenario would be P=2\n",
        "payoffs = {('C','C'):(R,R), ('C','D'):(S,T),\n",
        "           ('D','C'):(T,S), ('D','D'):(P,P)}\n",
        "\n",
        "def play(a1, a2):\n",
        "    return payoffs[(a1,a2)]\n",
        "\n",
        "#adding commitment cost from bonus\n",
        "commitment_cost=0.5\n",
        "\n",
        "def play_with_commit(c1, c2):\n",
        "    if c1 and c2:\n",
        "        original = payoffs[('C', 'C')]\n",
        "    else:\n",
        "        original = payoffs[('D', 'D')]\n",
        "    po1 = original[0] - commitment_cost if c1 else original[0]\n",
        "    po2 = original[1] - commitment_cost if c2 else original[1]\n",
        "    return (po1, po2)\n",
        "\n",
        "actions = [('C','C'),('C','D'),('D','C'),('D','D')]\n",
        "\n",
        "# Loop over action pairs\n",
        "for a1,a2 in actions:\n",
        "  print(a1,a2, play(a1,a2))\n",
        "for c1 in (False,True):\n",
        "  for c2 in (False,True):\n",
        "    print(c1,c2, play_with_commit(c1,c2))\n"
      ],
      "metadata": {
        "colab": {
          "base_uri": "https://localhost:8080/"
        },
        "id": "aDY6pSOBi9eo",
        "outputId": "1b6a35c0-0c08-4ebb-8cc9-09b46dc4573c"
      },
      "execution_count": null,
      "outputs": [
        {
          "output_type": "stream",
          "name": "stdout",
          "text": [
            "C C (3, 3)\n",
            "C D (0, 5)\n",
            "D C (5, 0)\n",
            "D D (1, 1)\n",
            "False False (1, 1)\n",
            "False True (1, 0.5)\n",
            "True False (0.5, 1)\n",
            "True True (2.5, 2.5)\n"
          ]
        }
      ]
    },
    {
      "cell_type": "markdown",
      "source": [
        "# 1. Which strategy is dominant without commitments?   \n",
        "The dominant strategy would be for both agents to defect:\n",
        "```\n",
        "D D (1, 1)\n",
        "```\n",
        "This is because in this setup, both agents are trying to maximize their rewards and would opt for the choice that would give them the maximum reward without considering what other agent would choose.\n",
        "\n",
        "# 2. How does enforcing C–C when both commit change that?  \n",
        "Output:\n",
        "```\n",
        "False False (1, 1)\n",
        "False True (1, 1)\n",
        "True False (1, 1)\n",
        "True True (3, 3)\n",
        "```\n",
        "Now, with commitment would cause there to be a higher opportunity cost for each agent to choose to defect. Since, if one defects, both agents would receive 1, which discourages defection and make the decision to cooperate to be more appealing.\n",
        "\n",
        "\n",
        "# 3. What if breaking a commitment only pays P=2 instead of P=1?   \n",
        "If breaking a commitment only pays 2, the payoff would look like:\n",
        "\n",
        "\n",
        "```\n",
        "('C','C') (3, 3)\n",
        "('C','D') (0, 5)\n",
        "('D','C') (5, 0)\n",
        "('D','D') (2, 2)\n",
        "```\n",
        "\n",
        "Raising the pay when the player breaks a commitment will make the option to defect for each player to be more appealing. Therefore, the dominant strategy would still be for both agents to defect.\n",
        "\n",
        "\n",
        "\n",
        "# 4. Bonus: Add an upfront “commitment cost” (e.g. –0.5) and see how it affects willingness to commit.   \n",
        "With P=1, the result would be:\n",
        "\n",
        "\n",
        "```\n",
        "False False (1, 1)\n",
        "False True (1, 0.5)\n",
        "True False (0.5, 1)\n",
        "True True (2.5, 2.5)\n",
        "```\n",
        "\n",
        "If you both commit, you will each gain 2.5 if you both commit. However, if you defect, the most that you will get is 1 (which is not larger than your reward for committing). Therefore, there remains the incentive for agents to cooperate.\n",
        "\n",
        "With P=2, the result would be:\n",
        "```\n",
        "False False (2, 2)\n",
        "False True (2, 1.5)\n",
        "True False (1.5, 2)\n",
        "True True (2.5, 2.5)\n",
        "```\n",
        "In contrast with P=1, P=2 makes it more appealing for each agent to defect as the difference between both defecting and both committing is 0.5. If that agent was the only one committing, she would risk losing 1.5 instead of 0.5 (if she were to defect). Nonetheless, there is still a strong incentive for both of the agents to cooperate since each agent will be paid 2.5 instead of at most 2 (if agents were to defect).\n"
      ],
      "metadata": {
        "id": "SjoWe0XDkOUo"
      }
    }
  ]
}